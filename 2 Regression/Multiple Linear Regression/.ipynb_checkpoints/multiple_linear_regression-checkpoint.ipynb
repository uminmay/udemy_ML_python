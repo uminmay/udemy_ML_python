{
 "cells": [
  {
   "cell_type": "markdown",
   "id": "e8eab958-cf99-46b5-baf3-60a3ad78a578",
   "metadata": {},
   "source": [
    "# Multiple Linear Regression"
   ]
  },
  {
   "cell_type": "markdown",
   "id": "70ae6140-a80d-43be-855f-1392232e52a5",
   "metadata": {},
   "source": [
    "### Before running MLR take care of below Assumptions"
   ]
  },
  {
   "cell_type": "code",
   "execution_count": 3,
   "id": "7e904a77-eb04-4ded-9ef0-ed3ae8432195",
   "metadata": {},
   "outputs": [],
   "source": [
    "#1.Linearity\n",
    "#2.Homoscedasticity\n",
    "#3.Multivariate Normality\n",
    "#4.Independence of errors\n",
    "#5.Lack of Multicollinearity"
   ]
  },
  {
   "cell_type": "markdown",
   "id": "ca3abda4-28ee-4ad5-a310-023214ccd5b0",
   "metadata": {},
   "source": [
    "### Import libraries and data file"
   ]
  },
  {
   "cell_type": "code",
   "execution_count": 2,
   "id": "bb1db946-3a1d-4b1a-96b2-2970b7b1ebdb",
   "metadata": {},
   "outputs": [],
   "source": [
    "import numpy as np\n",
    "import pandas as pd\n",
    "import matplotlib.pyplot as plt\n",
    "%matplotlib inline"
   ]
  },
  {
   "cell_type": "code",
   "execution_count": 19,
   "id": "2bcd69c1-c295-48c1-a7f8-496fca800a1b",
   "metadata": {},
   "outputs": [],
   "source": [
    "df =pd.read_csv(\"50_Startups.csv\")\n",
    "X = df.iloc[:,:-1].values\n",
    "y = df.iloc[:,-1].values"
   ]
  },
  {
   "cell_type": "markdown",
   "id": "9214f58e-a5ee-4796-aba6-aa67075a11a1",
   "metadata": {},
   "source": [
    "#### Dummy variables"
   ]
  },
  {
   "cell_type": "code",
   "execution_count": 4,
   "id": "25d87a9c-dc2d-4758-9b67-997030c97569",
   "metadata": {},
   "outputs": [],
   "source": [
    "#if catagorical variables covert to dummy"
   ]
  },
  {
   "cell_type": "code",
   "execution_count": 6,
   "id": "e40dd3e5-4f7f-434d-8f65-14854c921a42",
   "metadata": {},
   "outputs": [
    {
     "data": {
      "text/html": [
       "<div>\n",
       "<style scoped>\n",
       "    .dataframe tbody tr th:only-of-type {\n",
       "        vertical-align: middle;\n",
       "    }\n",
       "\n",
       "    .dataframe tbody tr th {\n",
       "        vertical-align: top;\n",
       "    }\n",
       "\n",
       "    .dataframe thead th {\n",
       "        text-align: right;\n",
       "    }\n",
       "</style>\n",
       "<table border=\"1\" class=\"dataframe\">\n",
       "  <thead>\n",
       "    <tr style=\"text-align: right;\">\n",
       "      <th></th>\n",
       "      <th>R&amp;D Spend</th>\n",
       "      <th>Administration</th>\n",
       "      <th>Marketing Spend</th>\n",
       "      <th>State</th>\n",
       "      <th>Profit</th>\n",
       "    </tr>\n",
       "  </thead>\n",
       "  <tbody>\n",
       "    <tr>\n",
       "      <th>0</th>\n",
       "      <td>165349.20</td>\n",
       "      <td>136897.80</td>\n",
       "      <td>471784.10</td>\n",
       "      <td>New York</td>\n",
       "      <td>192261.83</td>\n",
       "    </tr>\n",
       "    <tr>\n",
       "      <th>1</th>\n",
       "      <td>162597.70</td>\n",
       "      <td>151377.59</td>\n",
       "      <td>443898.53</td>\n",
       "      <td>California</td>\n",
       "      <td>191792.06</td>\n",
       "    </tr>\n",
       "    <tr>\n",
       "      <th>2</th>\n",
       "      <td>153441.51</td>\n",
       "      <td>101145.55</td>\n",
       "      <td>407934.54</td>\n",
       "      <td>Florida</td>\n",
       "      <td>191050.39</td>\n",
       "    </tr>\n",
       "    <tr>\n",
       "      <th>3</th>\n",
       "      <td>144372.41</td>\n",
       "      <td>118671.85</td>\n",
       "      <td>383199.62</td>\n",
       "      <td>New York</td>\n",
       "      <td>182901.99</td>\n",
       "    </tr>\n",
       "    <tr>\n",
       "      <th>4</th>\n",
       "      <td>142107.34</td>\n",
       "      <td>91391.77</td>\n",
       "      <td>366168.42</td>\n",
       "      <td>Florida</td>\n",
       "      <td>166187.94</td>\n",
       "    </tr>\n",
       "  </tbody>\n",
       "</table>\n",
       "</div>"
      ],
      "text/plain": [
       "   R&D Spend  Administration  Marketing Spend       State     Profit\n",
       "0  165349.20       136897.80        471784.10    New York  192261.83\n",
       "1  162597.70       151377.59        443898.53  California  191792.06\n",
       "2  153441.51       101145.55        407934.54     Florida  191050.39\n",
       "3  144372.41       118671.85        383199.62    New York  182901.99\n",
       "4  142107.34        91391.77        366168.42     Florida  166187.94"
      ]
     },
     "execution_count": 6,
     "metadata": {},
     "output_type": "execute_result"
    }
   ],
   "source": [
    "df.head()"
   ]
  },
  {
   "cell_type": "code",
   "execution_count": 7,
   "id": "3c1b8871-3b1c-4f97-860c-f067a7763b2e",
   "metadata": {},
   "outputs": [
    {
     "data": {
      "text/html": [
       "<div>\n",
       "<style scoped>\n",
       "    .dataframe tbody tr th:only-of-type {\n",
       "        vertical-align: middle;\n",
       "    }\n",
       "\n",
       "    .dataframe tbody tr th {\n",
       "        vertical-align: top;\n",
       "    }\n",
       "\n",
       "    .dataframe thead th {\n",
       "        text-align: right;\n",
       "    }\n",
       "</style>\n",
       "<table border=\"1\" class=\"dataframe\">\n",
       "  <thead>\n",
       "    <tr style=\"text-align: right;\">\n",
       "      <th></th>\n",
       "      <th>R&amp;D Spend</th>\n",
       "      <th>Administration</th>\n",
       "      <th>Marketing Spend</th>\n",
       "      <th>Profit</th>\n",
       "    </tr>\n",
       "  </thead>\n",
       "  <tbody>\n",
       "    <tr>\n",
       "      <th>count</th>\n",
       "      <td>50.000000</td>\n",
       "      <td>50.000000</td>\n",
       "      <td>50.000000</td>\n",
       "      <td>50.000000</td>\n",
       "    </tr>\n",
       "    <tr>\n",
       "      <th>mean</th>\n",
       "      <td>73721.615600</td>\n",
       "      <td>121344.639600</td>\n",
       "      <td>211025.097800</td>\n",
       "      <td>112012.639200</td>\n",
       "    </tr>\n",
       "    <tr>\n",
       "      <th>std</th>\n",
       "      <td>45902.256482</td>\n",
       "      <td>28017.802755</td>\n",
       "      <td>122290.310726</td>\n",
       "      <td>40306.180338</td>\n",
       "    </tr>\n",
       "    <tr>\n",
       "      <th>min</th>\n",
       "      <td>0.000000</td>\n",
       "      <td>51283.140000</td>\n",
       "      <td>0.000000</td>\n",
       "      <td>14681.400000</td>\n",
       "    </tr>\n",
       "    <tr>\n",
       "      <th>25%</th>\n",
       "      <td>39936.370000</td>\n",
       "      <td>103730.875000</td>\n",
       "      <td>129300.132500</td>\n",
       "      <td>90138.902500</td>\n",
       "    </tr>\n",
       "    <tr>\n",
       "      <th>50%</th>\n",
       "      <td>73051.080000</td>\n",
       "      <td>122699.795000</td>\n",
       "      <td>212716.240000</td>\n",
       "      <td>107978.190000</td>\n",
       "    </tr>\n",
       "    <tr>\n",
       "      <th>75%</th>\n",
       "      <td>101602.800000</td>\n",
       "      <td>144842.180000</td>\n",
       "      <td>299469.085000</td>\n",
       "      <td>139765.977500</td>\n",
       "    </tr>\n",
       "    <tr>\n",
       "      <th>max</th>\n",
       "      <td>165349.200000</td>\n",
       "      <td>182645.560000</td>\n",
       "      <td>471784.100000</td>\n",
       "      <td>192261.830000</td>\n",
       "    </tr>\n",
       "  </tbody>\n",
       "</table>\n",
       "</div>"
      ],
      "text/plain": [
       "           R&D Spend  Administration  Marketing Spend         Profit\n",
       "count      50.000000       50.000000        50.000000      50.000000\n",
       "mean    73721.615600   121344.639600    211025.097800  112012.639200\n",
       "std     45902.256482    28017.802755    122290.310726   40306.180338\n",
       "min         0.000000    51283.140000         0.000000   14681.400000\n",
       "25%     39936.370000   103730.875000    129300.132500   90138.902500\n",
       "50%     73051.080000   122699.795000    212716.240000  107978.190000\n",
       "75%    101602.800000   144842.180000    299469.085000  139765.977500\n",
       "max    165349.200000   182645.560000    471784.100000  192261.830000"
      ]
     },
     "execution_count": 7,
     "metadata": {},
     "output_type": "execute_result"
    }
   ],
   "source": [
    "df.describe()"
   ]
  },
  {
   "cell_type": "code",
   "execution_count": 8,
   "id": "ea6518f8-79e5-4c8e-ad75-4dace3a92626",
   "metadata": {},
   "outputs": [],
   "source": [
    "# State is a catagorical variable here"
   ]
  },
  {
   "cell_type": "code",
   "execution_count": 9,
   "id": "01be65b1-028d-4ecd-8794-4118ae1a4c32",
   "metadata": {},
   "outputs": [],
   "source": [
    "#Use One Hot Encoding"
   ]
  },
  {
   "cell_type": "code",
   "execution_count": 10,
   "id": "514048da-58fa-4bb5-900e-65cd3222fd13",
   "metadata": {},
   "outputs": [],
   "source": [
    "# Dummy variable trap.. so omit 1 dummary variable, else it can interfere with coefficient"
   ]
  },
  {
   "cell_type": "code",
   "execution_count": 12,
   "id": "127c06d6-8c10-4439-9e2a-7e17e8b4d106",
   "metadata": {},
   "outputs": [],
   "source": [
    "#pee value... oh! so valuable .. what a relief!!!!"
   ]
  },
  {
   "cell_type": "code",
   "execution_count": 18,
   "id": "6fc6a055-6d8c-46e7-b440-dc4990e949bb",
   "metadata": {},
   "outputs": [],
   "source": [
    "\n",
    "#statistical significance\n",
    "\n",
    "#selectiong significance level.. SL=0.05, SLENTER, SLSTAY"
   ]
  },
  {
   "cell_type": "markdown",
   "id": "ebd876b1-03cb-4852-b370-aab125d067a5",
   "metadata": {},
   "source": [
    "#### Proceeding"
   ]
  },
  {
   "cell_type": "markdown",
   "id": "580cc04d-8c63-4807-b57c-2c0a44f107ee",
   "metadata": {},
   "source": [
    "### Train-Test Splitting"
   ]
  },
  {
   "cell_type": "code",
   "execution_count": 28,
   "id": "cf8bdc34-1733-42bf-8632-4637a964018d",
   "metadata": {},
   "outputs": [],
   "source": [
    "from sklearn.model_selection import train_test_split\n",
    "X_train, X_test, y_train, y_test = train_test_split(X,y, test_size =0.2, random_state= 0)"
   ]
  },
  {
   "cell_type": "code",
   "execution_count": 15,
   "id": "6452397c-e053-41a7-b6b8-804d34b3a218",
   "metadata": {},
   "outputs": [],
   "source": [
    "#Methods\n",
    "\n",
    "#1 All -in all variables[ carefull -garbage in -garbage out]\n",
    "#2 Backward Elimination\n",
    "#3 Forward Elimination\n",
    "#4 Bidirectional Elimination\n",
    "#5 Score Comparison"
   ]
  },
  {
   "cell_type": "code",
   "execution_count": 20,
   "id": "e0b8aa33-312d-4e30-8bff-cc6c5345e4eb",
   "metadata": {},
   "outputs": [],
   "source": [
    "from sklearn.compose import ColumnTransformer\n",
    "from sklearn.preprocessing import OneHotEncoder\n",
    "ct = ColumnTransformer(transformers = [('encoder', OneHotEncoder(),[3])], remainder='passthrough')\n",
    "X = np.array(ct.fit_transform(X))"
   ]
  },
  {
   "cell_type": "code",
   "execution_count": 26,
   "id": "52909a99-4df1-47f3-9017-bd9fc9a7959a",
   "metadata": {},
   "outputs": [],
   "source": [
    "##  IN MULIPLE LINEAR REGRESSION FEATURE SCALING IS NOT NECESSARY"
   ]
  },
  {
   "cell_type": "code",
   "execution_count": 27,
   "id": "edffbeb2-3923-40df-b15a-6d910420d209",
   "metadata": {},
   "outputs": [],
   "source": [
    "##CLASS WILL Automatically identifies best features models|"
   ]
  },
  {
   "cell_type": "code",
   "execution_count": 29,
   "id": "1588a40e-7a82-4432-ba9c-b4a44031ad06",
   "metadata": {},
   "outputs": [
    {
     "data": {
      "text/plain": [
       "LinearRegression()"
      ]
     },
     "execution_count": 29,
     "metadata": {},
     "output_type": "execute_result"
    }
   ],
   "source": [
    "from sklearn.linear_model import LinearRegression\n",
    "regressor = LinearRegression()\n",
    "regressor.fit(X_train, y_train)"
   ]
  },
  {
   "cell_type": "markdown",
   "id": "19ff158c-27bb-4f20-b148-a8f21170f167",
   "metadata": {},
   "source": [
    "### Predicting Results"
   ]
  },
  {
   "cell_type": "code",
   "execution_count": 32,
   "id": "4e3b4309-359f-4ee1-a826-f1d9a7d4fa15",
   "metadata": {},
   "outputs": [],
   "source": [
    "y_pred = regressor.predict(X_test)"
   ]
  },
  {
   "cell_type": "code",
   "execution_count": 42,
   "id": "d5e38a0b-aaac-4c22-bde8-1dac39f7049c",
   "metadata": {},
   "outputs": [],
   "source": [
    "np.set_printoptions(precision=2)"
   ]
  },
  {
   "cell_type": "code",
   "execution_count": 44,
   "id": "e69a249e-c123-44e1-91df-bdde24c44416",
   "metadata": {},
   "outputs": [
    {
     "name": "stdout",
     "output_type": "stream",
     "text": [
      "[[103015.2  103282.38]\n",
      " [132582.28 144259.4 ]\n",
      " [132447.74 146121.95]\n",
      " [ 71976.1   77798.83]\n",
      " [178537.48 191050.39]\n",
      " [116161.24 105008.31]\n",
      " [ 67851.69  81229.06]\n",
      " [ 98791.73  97483.56]\n",
      " [113969.44 110352.25]\n",
      " [167921.07 166187.94]]\n"
     ]
    }
   ],
   "source": [
    "print(np.concatenate((y_pred.reshape(len(y_pred),1), y_test.reshape(len(y_test),1)),1))"
   ]
  },
  {
   "cell_type": "code",
   "execution_count": null,
   "id": "c2ca64bf-2642-414e-a380-85de87d5ac80",
   "metadata": {},
   "outputs": [],
   "source": []
  }
 ],
 "metadata": {
  "kernelspec": {
   "display_name": "Python 3",
   "language": "python",
   "name": "python3"
  },
  "language_info": {
   "codemirror_mode": {
    "name": "ipython",
    "version": 3
   },
   "file_extension": ".py",
   "mimetype": "text/x-python",
   "name": "python",
   "nbconvert_exporter": "python",
   "pygments_lexer": "ipython3",
   "version": "3.8.8"
  }
 },
 "nbformat": 4,
 "nbformat_minor": 5
}
