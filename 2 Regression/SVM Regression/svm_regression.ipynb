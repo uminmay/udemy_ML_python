{
 "cells": [
  {
   "cell_type": "markdown",
   "id": "aaf42dbc-f3ee-42f8-b97f-586ef090e5eb",
   "metadata": {},
   "source": [
    "# Support vector machine . LR"
   ]
  },
  {
   "cell_type": "code",
   "execution_count": 1,
   "id": "b23691ae-6048-4ca8-a7f5-8b65af3ef32e",
   "metadata": {},
   "outputs": [],
   "source": [
    "## WE allow errors symmerticity both sides of regression line upto some value."
   ]
  },
  {
   "cell_type": "code",
   "execution_count": 4,
   "id": "f7ecd3b5-b639-400a-8d38-a6b5dcb7d422",
   "metadata": {},
   "outputs": [],
   "source": [
    "##sigma- insensitive tube slack variables  # ita-i and ita-i* (say)"
   ]
  },
  {
   "cell_type": "code",
   "execution_count": null,
   "id": "59fb6f86-2ae2-4ed2-b737-98e462672aa6",
   "metadata": {},
   "outputs": [],
   "source": [
    "## points outside the tube are vectors(duh) and since they kinda support the structure"
   ]
  },
  {
   "cell_type": "markdown",
   "id": "82f7d9a4-828b-4022-aed8-2550991db5f0",
   "metadata": {},
   "source": [
    "## SVM PATH"
   ]
  },
  {
   "cell_type": "markdown",
   "id": "23aaecd9-3274-4ac1-81d6-ec365d11c285",
   "metadata": {},
   "source": [
    "### 1.Sections on SVM"
   ]
  },
  {
   "cell_type": "markdown",
   "id": "83c80520-98a4-422d-ad1a-9b25aa898205",
   "metadata": {},
   "source": [
    "#### SVM Intuition"
   ]
  },
  {
   "cell_type": "markdown",
   "id": "d46fdc53-ce35-45b5-9721-6b28949d7070",
   "metadata": {},
   "source": [
    "### 2.Section on Kernel SVM"
   ]
  },
  {
   "cell_type": "markdown",
   "id": "860be9b8-317e-40b4-af0b-6ac9e94b231d",
   "metadata": {},
   "source": [
    "#### 2.1Kernel SVM Intuition"
   ]
  },
  {
   "cell_type": "markdown",
   "id": "8de130b4-a724-4629-b56c-8bef046cd0a9",
   "metadata": {},
   "source": [
    "#### 2.2Mapping to a higher dimension"
   ]
  },
  {
   "cell_type": "markdown",
   "id": "3586d759-ebe7-421f-8eaa-522db452792e",
   "metadata": {},
   "source": [
    "#### 2.3The Kernel Trick"
   ]
  },
  {
   "cell_type": "markdown",
   "id": "7b5a30ec-7ae9-41e6-ab7d-ebe132c27a25",
   "metadata": {},
   "source": [
    "#### 2.4 Type of kernel functions"
   ]
  },
  {
   "cell_type": "markdown",
   "id": "3cdbf8ef-aa55-48de-9aeb-b93eebafe4d7",
   "metadata": {},
   "source": [
    "#### 2.5 Non-Linear Kernel SVR"
   ]
  },
  {
   "cell_type": "markdown",
   "id": "da5532b9-634e-4f8a-acf0-0df178b00d4b",
   "metadata": {},
   "source": [
    "### Begin: import libraries and data file"
   ]
  },
  {
   "cell_type": "code",
   "execution_count": 77,
   "id": "af1d2d22-70b9-4bd7-8c88-9438092bd242",
   "metadata": {},
   "outputs": [],
   "source": [
    "import pandas as pd\n",
    "import numpy as np\n",
    "import matplotlib.pyplot as plt\n",
    "%matplotlib inline"
   ]
  },
  {
   "cell_type": "code",
   "execution_count": 78,
   "id": "3cfdb529-6f25-4441-8ee0-17442d22a93e",
   "metadata": {},
   "outputs": [],
   "source": [
    "df = pd.read_csv('Position_Salaries.csv')\n",
    "X = df.iloc[:,1:-1].values\n",
    "y = df.iloc[:, -1].values"
   ]
  },
  {
   "cell_type": "code",
   "execution_count": 79,
   "id": "ca0083f0-e238-4fb0-99b4-b812771ea795",
   "metadata": {},
   "outputs": [
    {
     "name": "stdout",
     "output_type": "stream",
     "text": [
      "[[ 1]\n",
      " [ 2]\n",
      " [ 3]\n",
      " [ 4]\n",
      " [ 5]\n",
      " [ 6]\n",
      " [ 7]\n",
      " [ 8]\n",
      " [ 9]\n",
      " [10]]\n"
     ]
    }
   ],
   "source": [
    "print(X)"
   ]
  },
  {
   "cell_type": "code",
   "execution_count": 80,
   "id": "e25e3ee5-35ec-43d9-ab0c-7fec3e099580",
   "metadata": {},
   "outputs": [
    {
     "name": "stdout",
     "output_type": "stream",
     "text": [
      "[  45000   50000   60000   80000  110000  150000  200000  300000  500000\n",
      " 1000000]\n"
     ]
    }
   ],
   "source": [
    "print(y)"
   ]
  },
  {
   "cell_type": "markdown",
   "id": "9b350a65-b24d-42c7-a560-b80988328d1f",
   "metadata": {},
   "source": [
    "### Feature scaling"
   ]
  },
  {
   "cell_type": "code",
   "execution_count": 81,
   "id": "acd0c9a1-f771-4d37-96bc-ecc0156b400e",
   "metadata": {},
   "outputs": [],
   "source": [
    "## apply to both X and y"
   ]
  },
  {
   "cell_type": "code",
   "execution_count": 68,
   "id": "ba6f3f1e-5e81-437e-83cc-80539f7043f1",
   "metadata": {},
   "outputs": [],
   "source": [
    "##need to transform y into 2D array as our function expects"
   ]
  },
  {
   "cell_type": "code",
   "execution_count": 82,
   "id": "e9231e73-3ab8-4e8b-a67e-fa6abaa32299",
   "metadata": {},
   "outputs": [],
   "source": [
    "y = y.reshape(len(y),1)"
   ]
  },
  {
   "cell_type": "code",
   "execution_count": 83,
   "id": "e86a51f6-b118-48d4-918f-4260c8768da6",
   "metadata": {},
   "outputs": [
    {
     "name": "stdout",
     "output_type": "stream",
     "text": [
      "[[  45000]\n",
      " [  50000]\n",
      " [  60000]\n",
      " [  80000]\n",
      " [ 110000]\n",
      " [ 150000]\n",
      " [ 200000]\n",
      " [ 300000]\n",
      " [ 500000]\n",
      " [1000000]]\n"
     ]
    }
   ],
   "source": [
    "print(y)"
   ]
  },
  {
   "cell_type": "code",
   "execution_count": 84,
   "id": "918fb069-08a5-4da0-a4b4-02aa3e61a1c1",
   "metadata": {},
   "outputs": [],
   "source": [
    "from sklearn.preprocessing import StandardScaler\n",
    "sc_X = StandardScaler() #one fitted to mean and other to stddev.. sonot apply same sc on both..\n",
    "sc_y = StandardScaler()\n",
    "X = sc_X.fit_transform(X)\n",
    "y = sc_y.fit_transform(y)"
   ]
  },
  {
   "cell_type": "code",
   "execution_count": 85,
   "id": "5315b4f8-1c87-47dd-8b75-3e07153c3bc3",
   "metadata": {},
   "outputs": [
    {
     "name": "stdout",
     "output_type": "stream",
     "text": [
      "[[-1.5666989 ]\n",
      " [-1.21854359]\n",
      " [-0.87038828]\n",
      " [-0.52223297]\n",
      " [-0.17407766]\n",
      " [ 0.17407766]\n",
      " [ 0.52223297]\n",
      " [ 0.87038828]\n",
      " [ 1.21854359]\n",
      " [ 1.5666989 ]]\n"
     ]
    }
   ],
   "source": [
    "print(X)"
   ]
  },
  {
   "cell_type": "code",
   "execution_count": 86,
   "id": "9efae0fa-06c8-4d98-99fd-8bbfe7847cc7",
   "metadata": {},
   "outputs": [
    {
     "name": "stdout",
     "output_type": "stream",
     "text": [
      "[[-0.72004253]\n",
      " [-0.70243757]\n",
      " [-0.66722767]\n",
      " [-0.59680786]\n",
      " [-0.49117815]\n",
      " [-0.35033854]\n",
      " [-0.17428902]\n",
      " [ 0.17781001]\n",
      " [ 0.88200808]\n",
      " [ 2.64250325]]\n"
     ]
    }
   ],
   "source": [
    "print(y)"
   ]
  },
  {
   "cell_type": "code",
   "execution_count": 87,
   "id": "c3636c9f-18dd-43cf-8381-50afe4360b82",
   "metadata": {},
   "outputs": [],
   "source": [
    "#y = y.reshape([1,10])"
   ]
  },
  {
   "cell_type": "code",
   "execution_count": 88,
   "id": "72e6263d-0109-421c-bf3a-f01793662945",
   "metadata": {},
   "outputs": [],
   "source": [
    "#print(y)"
   ]
  },
  {
   "cell_type": "code",
   "execution_count": 97,
   "id": "c3f81b41-cd57-4581-9918-b0c5d01ea19b",
   "metadata": {},
   "outputs": [
    {
     "data": {
      "text/plain": [
       "SVR()"
      ]
     },
     "execution_count": 97,
     "metadata": {},
     "output_type": "execute_result"
    }
   ],
   "source": [
    "from sklearn.svm import SVR\n",
    "regressor = SVR(kernel = 'rbf') ###we have to use a parameter[to specify kernal]\n",
    "regressor.fit(X,y.ravel()) ###pay attention to ravel function"
   ]
  },
  {
   "cell_type": "markdown",
   "id": "f7c8adf7-0ceb-4189-a8e8-a49757e3d62e",
   "metadata": {},
   "source": [
    "## Predicting a new result"
   ]
  },
  {
   "cell_type": "code",
   "execution_count": 99,
   "id": "e7be023e-d8f5-413f-a50a-02fbba03eb1c",
   "metadata": {},
   "outputs": [
    {
     "data": {
      "text/plain": [
       "array([170370.0204065])"
      ]
     },
     "execution_count": 99,
     "metadata": {},
     "output_type": "execute_result"
    }
   ],
   "source": [
    "sc_y.inverse_transform(regressor.predict(sc_X.transform([[6.5]])))"
   ]
  },
  {
   "cell_type": "code",
   "execution_count": 102,
   "id": "3c4c987e-0f4f-4cbd-a56a-13863de93fa3",
   "metadata": {},
   "outputs": [],
   "source": [
    "###Transform ____ Inverse Transform"
   ]
  },
  {
   "cell_type": "markdown",
   "id": "f65bd066-be67-43de-b957-7fc2df3aa8ed",
   "metadata": {},
   "source": [
    "## Visualising the results"
   ]
  },
  {
   "cell_type": "code",
   "execution_count": 110,
   "id": "7324d71d-1318-428f-98d8-c72fb49614f4",
   "metadata": {},
   "outputs": [
    {
     "data": {
      "image/png": "[encoded data removed]",
      "text/plain": [
       "<Figure size 432x288 with 1 Axes>"
      ]
     },
     "metadata": {
      "needs_background": "light"
     },
     "output_type": "display_data"
    }
   ],
   "source": [
    "plt.scatter(sc_X.inverse_transform(X),sc_y.inverse_transform(y),color='red')\n",
    "plt.plot(sc_X.inverse_transform(X),sc_y.inverse_transform(regressor.predict(X)),color='blue')\n",
    "plt.title('Bluff/Truth..SVM_Linear_Model')\n",
    "plt.xlabel('Position Level')\n",
    "plt.ylabel('Salary')\n",
    "plt.show()"
   ]
  },
  {
   "cell_type": "markdown",
   "id": "8c4605f3-ca21-4743-8e55-a758fd89e6d7",
   "metadata": {},
   "source": [
    "## Visualise with HiRes and Smoother curve"
   ]
  },
  {
   "cell_type": "code",
   "execution_count": 115,
   "id": "83e60c2a-72b3-4e4a-9f5d-1c8de4528b61",
   "metadata": {},
   "outputs": [
    {
     "data": {
      "image/png": "[encoded data removed]",
      "text/plain": [
       "<Figure size 432x288 with 1 Axes>"
      ]
     },
     "metadata": {
      "needs_background": "light"
     },
     "output_type": "display_data"
    }
   ],
   "source": [
    "X_grid = np.arange(min(sc_X.inverse_transform(X)), max(sc_X.inverse_transform(X)),0.1)\n",
    "X_grid = X_grid.reshape((len(X_grid)),1)\n",
    "plt.scatter(sc_X.inverse_transform(X),sc_y.inverse_transform(y),color='red')\n",
    "plt.plot(X_grid,sc_y.inverse_transform(regressor.predict(sc_X.transform(X_grid))),color='blue')\n",
    "plt.title('Bluff/Truth..SVM_Linear_Model')\n",
    "plt.xlabel('Position Level')\n",
    "plt.ylabel('Salary')\n",
    "plt.show()"
   ]
  },
  {
   "cell_type": "code",
   "execution_count": null,
   "id": "4e3185b1-3a27-47f3-8bf4-0e8bb0d61918",
   "metadata": {},
   "outputs": [],
   "source": []
  }
 ],
 "metadata": {
  "kernelspec": {
   "display_name": "Python 3",
   "language": "python",
   "name": "python3"
  },
  "language_info": {
   "codemirror_mode": {
    "name": "ipython",
    "version": 3
   },
   "file_extension": ".py",
   "mimetype": "text/x-python",
   "name": "python",
   "nbconvert_exporter": "python",
   "pygments_lexer": "ipython3",
   "version": "3.8.8"
  }
 },
 "nbformat": 4,
 "nbformat_minor": 5
}
